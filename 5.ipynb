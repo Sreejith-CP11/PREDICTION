{
 "cells": [
  {
   "cell_type": "code",
   "execution_count": 24,
   "metadata": {},
   "outputs": [],
   "source": [
    "import pandas as pd\n",
    "import numpy as np"
   ]
  },
  {
   "cell_type": "code",
   "execution_count": 8,
   "metadata": {},
   "outputs": [],
   "source": [
    "data=pd.read_csv('SampleSuperstore.csv')"
   ]
  },
  {
   "cell_type": "code",
   "execution_count": 9,
   "metadata": {},
   "outputs": [
    {
     "data": {
      "text/html": [
       "<div>\n",
       "<style scoped>\n",
       "    .dataframe tbody tr th:only-of-type {\n",
       "        vertical-align: middle;\n",
       "    }\n",
       "\n",
       "    .dataframe tbody tr th {\n",
       "        vertical-align: top;\n",
       "    }\n",
       "\n",
       "    .dataframe thead th {\n",
       "        text-align: right;\n",
       "    }\n",
       "</style>\n",
       "<table border=\"1\" class=\"dataframe\">\n",
       "  <thead>\n",
       "    <tr style=\"text-align: right;\">\n",
       "      <th></th>\n",
       "      <th>Ship Mode</th>\n",
       "      <th>Segment</th>\n",
       "      <th>Country</th>\n",
       "      <th>City</th>\n",
       "      <th>State</th>\n",
       "      <th>Postal Code</th>\n",
       "      <th>Region</th>\n",
       "      <th>Category</th>\n",
       "      <th>Sub-Category</th>\n",
       "      <th>Sales</th>\n",
       "      <th>Quantity</th>\n",
       "      <th>Discount</th>\n",
       "      <th>Profit</th>\n",
       "    </tr>\n",
       "  </thead>\n",
       "  <tbody>\n",
       "    <tr>\n",
       "      <th>0</th>\n",
       "      <td>Second Class</td>\n",
       "      <td>Consumer</td>\n",
       "      <td>United States</td>\n",
       "      <td>Henderson</td>\n",
       "      <td>Kentucky</td>\n",
       "      <td>42420</td>\n",
       "      <td>South</td>\n",
       "      <td>Furniture</td>\n",
       "      <td>Bookcases</td>\n",
       "      <td>261.9600</td>\n",
       "      <td>2</td>\n",
       "      <td>0.00</td>\n",
       "      <td>41.9136</td>\n",
       "    </tr>\n",
       "    <tr>\n",
       "      <th>1</th>\n",
       "      <td>Second Class</td>\n",
       "      <td>Consumer</td>\n",
       "      <td>United States</td>\n",
       "      <td>Henderson</td>\n",
       "      <td>Kentucky</td>\n",
       "      <td>42420</td>\n",
       "      <td>South</td>\n",
       "      <td>Furniture</td>\n",
       "      <td>Chairs</td>\n",
       "      <td>731.9400</td>\n",
       "      <td>3</td>\n",
       "      <td>0.00</td>\n",
       "      <td>219.5820</td>\n",
       "    </tr>\n",
       "    <tr>\n",
       "      <th>2</th>\n",
       "      <td>Second Class</td>\n",
       "      <td>Corporate</td>\n",
       "      <td>United States</td>\n",
       "      <td>Los Angeles</td>\n",
       "      <td>California</td>\n",
       "      <td>90036</td>\n",
       "      <td>West</td>\n",
       "      <td>Office Supplies</td>\n",
       "      <td>Labels</td>\n",
       "      <td>14.6200</td>\n",
       "      <td>2</td>\n",
       "      <td>0.00</td>\n",
       "      <td>6.8714</td>\n",
       "    </tr>\n",
       "    <tr>\n",
       "      <th>3</th>\n",
       "      <td>Standard Class</td>\n",
       "      <td>Consumer</td>\n",
       "      <td>United States</td>\n",
       "      <td>Fort Lauderdale</td>\n",
       "      <td>Florida</td>\n",
       "      <td>33311</td>\n",
       "      <td>South</td>\n",
       "      <td>Furniture</td>\n",
       "      <td>Tables</td>\n",
       "      <td>957.5775</td>\n",
       "      <td>5</td>\n",
       "      <td>0.45</td>\n",
       "      <td>-383.0310</td>\n",
       "    </tr>\n",
       "    <tr>\n",
       "      <th>4</th>\n",
       "      <td>Standard Class</td>\n",
       "      <td>Consumer</td>\n",
       "      <td>United States</td>\n",
       "      <td>Fort Lauderdale</td>\n",
       "      <td>Florida</td>\n",
       "      <td>33311</td>\n",
       "      <td>South</td>\n",
       "      <td>Office Supplies</td>\n",
       "      <td>Storage</td>\n",
       "      <td>22.3680</td>\n",
       "      <td>2</td>\n",
       "      <td>0.20</td>\n",
       "      <td>2.5164</td>\n",
       "    </tr>\n",
       "  </tbody>\n",
       "</table>\n",
       "</div>"
      ],
      "text/plain": [
       "        Ship Mode    Segment        Country             City       State  \\\n",
       "0    Second Class   Consumer  United States        Henderson    Kentucky   \n",
       "1    Second Class   Consumer  United States        Henderson    Kentucky   \n",
       "2    Second Class  Corporate  United States      Los Angeles  California   \n",
       "3  Standard Class   Consumer  United States  Fort Lauderdale     Florida   \n",
       "4  Standard Class   Consumer  United States  Fort Lauderdale     Florida   \n",
       "\n",
       "   Postal Code Region         Category Sub-Category     Sales  Quantity  \\\n",
       "0        42420  South        Furniture    Bookcases  261.9600         2   \n",
       "1        42420  South        Furniture       Chairs  731.9400         3   \n",
       "2        90036   West  Office Supplies       Labels   14.6200         2   \n",
       "3        33311  South        Furniture       Tables  957.5775         5   \n",
       "4        33311  South  Office Supplies      Storage   22.3680         2   \n",
       "\n",
       "   Discount    Profit  \n",
       "0      0.00   41.9136  \n",
       "1      0.00  219.5820  \n",
       "2      0.00    6.8714  \n",
       "3      0.45 -383.0310  \n",
       "4      0.20    2.5164  "
      ]
     },
     "execution_count": 9,
     "metadata": {},
     "output_type": "execute_result"
    }
   ],
   "source": [
    "data.head()"
   ]
  },
  {
   "cell_type": "code",
   "execution_count": 10,
   "metadata": {},
   "outputs": [
    {
     "data": {
      "text/plain": [
       "Index(['Ship Mode', 'Segment', 'Country', 'City', 'State', 'Postal Code',\n",
       "       'Region', 'Category', 'Sub-Category', 'Sales', 'Quantity', 'Discount',\n",
       "       'Profit'],\n",
       "      dtype='object')"
      ]
     },
     "execution_count": 10,
     "metadata": {},
     "output_type": "execute_result"
    }
   ],
   "source": [
    "data.columns"
   ]
  },
  {
   "cell_type": "code",
   "execution_count": 16,
   "metadata": {},
   "outputs": [],
   "source": [
    "data['Block_id']=data.groupby(['City','State','Region']).ngroup()"
   ]
  },
  {
   "cell_type": "code",
   "execution_count": 34,
   "metadata": {},
   "outputs": [],
   "source": [
    "dd=pd.merge(data,pd.DataFrame(data.groupby('Block_id')['Profit'].apply(np.sum)).reset_index(),on='Block_id',how='inner')"
   ]
  },
  {
   "cell_type": "code",
   "execution_count": 51,
   "metadata": {},
   "outputs": [
    {
     "data": {
      "text/plain": [
       "<matplotlib.axes._subplots.AxesSubplot at 0x1f212b628d0>"
      ]
     },
     "execution_count": 51,
     "metadata": {},
     "output_type": "execute_result"
    },
    {
     "data": {
      "image/png": "[encoded data removed]",
      "text/plain": [
       "<Figure size 432x288 with 1 Axes>"
      ]
     },
     "metadata": {},
     "output_type": "display_data"
    }
   ],
   "source": [
    "pd.DataFrame(data.groupby('Block_id')['Profit'].apply(np.sum)).reset_index()['Profit'].plot()\n"
   ]
  },
  {
   "cell_type": "code",
   "execution_count": 58,
   "metadata": {},
   "outputs": [
    {
     "data": {
      "text/plain": [
       "0.7512359999999981"
      ]
     },
     "execution_count": 58,
     "metadata": {},
     "output_type": "execute_result"
    }
   ],
   "source": [
    "np.percentile(pd.DataFrame(data.groupby('Block_id')['Profit'].apply(np.sum)).reset_index()['Profit'],23)"
   ]
  },
  {
   "cell_type": "markdown",
   "metadata": {},
   "source": [
    "23 % of areas (Block_id) are suffering from loss"
   ]
  },
  {
   "cell_type": "markdown",
   "metadata": {},
   "source": [
    "##### Weak areas"
   ]
  },
  {
   "cell_type": "code",
   "execution_count": 66,
   "metadata": {},
   "outputs": [
    {
     "name": "stdout",
     "output_type": "stream",
     "text": [
      "Weak areas:\n",
      "\n",
      "['Abilene' 'Texas' 'Central']\n",
      "['Akron' 'Ohio' 'East']\n",
      "['Allen' 'Texas' 'Central']\n",
      "['Allentown' 'Pennsylvania' 'East']\n",
      "['Altoona' 'Pennsylvania' 'East']\n",
      "['Amarillo' 'Texas' 'Central']\n",
      "['Arlington' 'Texas' 'Central']\n",
      "['Aurora' 'Colorado' 'West']\n",
      "['Aurora' 'Illinois' 'Central']\n",
      "['Austin' 'Texas' 'Central']\n",
      "['Bethlehem' 'Pennsylvania' 'East']\n",
      "['Bloomington' 'Illinois' 'Central']\n",
      "['Boca Raton' 'Florida' 'South']\n",
      "['Bolingbrook' 'Illinois' 'Central']\n",
      "['Bristol' 'Tennessee' 'South']\n",
      "['Bryan' 'Texas' 'Central']\n",
      "['Buffalo Grove' 'Illinois' 'Central']\n",
      "['Burlington' 'North Carolina' 'South']\n",
      "['Carol Stream' 'Illinois' 'Central']\n",
      "['Carrollton' 'Texas' 'Central']\n",
      "['Champaign' 'Illinois' 'Central']\n",
      "['Charlotte' 'North Carolina' 'South']\n",
      "['Chicago' 'Illinois' 'Central']\n",
      "['Clarksville' 'Tennessee' 'South']\n",
      "['Cleveland' 'Ohio' 'East']\n",
      "['College Station' 'Texas' 'Central']\n",
      "['Colorado Springs' 'Colorado' 'West']\n",
      "['Columbia' 'Tennessee' 'South']\n",
      "['Columbus' 'Ohio' 'East']\n",
      "['Commerce City' 'Colorado' 'West']\n",
      "['Concord' 'North Carolina' 'South']\n",
      "['Corpus Christi' 'Texas' 'Central']\n",
      "['Cuyahoga Falls' 'Ohio' 'East']\n",
      "['Dallas' 'Texas' 'Central']\n",
      "['Danville' 'Illinois' 'Central']\n",
      "['Daytona Beach' 'Florida' 'South']\n",
      "['Decatur' 'Illinois' 'Central']\n",
      "['Deer Park' 'Texas' 'Central']\n",
      "['Denver' 'Colorado' 'West']\n",
      "['Des Plaines' 'Illinois' 'Central']\n",
      "['Dublin' 'Ohio' 'East']\n",
      "['El Paso' 'Texas' 'Central']\n",
      "['Elmhurst' 'Illinois' 'Central']\n",
      "['Elyria' 'Ohio' 'East']\n",
      "['Fairfield' 'Ohio' 'East']\n",
      "['Fort Collins' 'Colorado' 'West']\n",
      "['Fort Lauderdale' 'Florida' 'South']\n",
      "['Frankfort' 'Illinois' 'Central']\n",
      "['Franklin' 'Tennessee' 'South']\n",
      "['Freeport' 'Illinois' 'Central']\n",
      "['Frisco' 'Texas' 'Central']\n",
      "['Garland' 'Texas' 'Central']\n",
      "['Gastonia' 'North Carolina' 'South']\n",
      "['Grand Prairie' 'Texas' 'Central']\n",
      "['Greensboro' 'North Carolina' 'South']\n",
      "['Greenville' 'North Carolina' 'South']\n",
      "['Hamilton' 'Ohio' 'East']\n",
      "['Hendersonville' 'Tennessee' 'South']\n",
      "['Hialeah' 'Florida' 'South']\n",
      "['Hickory' 'North Carolina' 'South']\n",
      "['Highland Park' 'Illinois' 'Central']\n",
      "['Houston' 'Texas' 'Central']\n",
      "['Huntsville' 'Texas' 'Central']\n",
      "['Irving' 'Texas' 'Central']\n",
      "['Jackson' 'Tennessee' 'South']\n",
      "['Jacksonville' 'Florida' 'South']\n",
      "['Kent' 'Ohio' 'East']\n",
      "['Knoxville' 'Tennessee' 'South']\n",
      "['La Porte' 'Texas' 'Central']\n",
      "['Lakeland' 'Florida' 'South']\n",
      "['Lakewood' 'Ohio' 'East']\n",
      "['Lancaster' 'Ohio' 'East']\n",
      "['Lancaster' 'Pennsylvania' 'East']\n",
      "['Laredo' 'Texas' 'Central']\n",
      "['League City' 'Texas' 'Central']\n",
      "['Littleton' 'Colorado' 'West']\n",
      "['Lorain' 'Ohio' 'East']\n",
      "['Louisville' 'Colorado' 'West']\n",
      "['Mansfield' 'Texas' 'Central']\n",
      "['Marion' 'Ohio' 'East']\n",
      "['Mason' 'Ohio' 'East']\n",
      "['Mcallen' 'Texas' 'Central']\n",
      "['Medina' 'Ohio' 'East']\n",
      "['Memphis' 'Tennessee' 'South']\n",
      "['Mentor' 'Ohio' 'East']\n",
      "['Mesa' 'Arizona' 'West']\n",
      "['Mesquite' 'Texas' 'Central']\n",
      "['Miami' 'Florida' 'South']\n",
      "['Missouri City' 'Texas' 'Central']\n",
      "['Naperville' 'Illinois' 'Central']\n",
      "['Nashville' 'Tennessee' 'South']\n",
      "['Newark' 'Ohio' 'East']\n",
      "['Normal' 'Illinois' 'Central']\n",
      "['Odessa' 'Texas' 'Central']\n",
      "['Ontario' 'California' 'West']\n",
      "['Ormond Beach' 'Florida' 'South']\n",
      "['Oswego' 'Illinois' 'Central']\n",
      "['Park Ridge' 'Illinois' 'Central']\n",
      "['Parker' 'Colorado' 'West']\n",
      "['Pasadena' 'Texas' 'Central']\n",
      "['Pembroke Pines' 'Florida' 'South']\n",
      "['Pensacola' 'Florida' 'South']\n",
      "['Peoria' 'Arizona' 'West']\n",
      "['Peoria' 'Illinois' 'Central']\n",
      "['Pharr' 'Texas' 'Central']\n",
      "['Philadelphia' 'Pennsylvania' 'East']\n",
      "['Phoenix' 'Arizona' 'West']\n",
      "['Plano' 'Texas' 'Central']\n",
      "['Pueblo' 'Colorado' 'West']\n",
      "['Reading' 'Pennsylvania' 'East']\n",
      "['Redmond' 'Oregon' 'West']\n",
      "['Richardson' 'Texas' 'Central']\n",
      "['Rockford' 'Illinois' 'Central']\n",
      "['Romeoville' 'Illinois' 'Central']\n",
      "['Round Rock' 'Texas' 'Central']\n",
      "['Salem' 'Oregon' 'West']\n",
      "['San Angelo' 'Texas' 'Central']\n",
      "['San Antonio' 'Texas' 'Central']\n",
      "['San Marcos' 'Texas' 'Central']\n",
      "['Sanford' 'Florida' 'South']\n",
      "['Scottsdale' 'Arizona' 'West']\n",
      "['Skokie' 'Illinois' 'Central']\n",
      "['Springfield' 'Ohio' 'East']\n",
      "['Springfield' 'Oregon' 'West']\n",
      "['Tamarac' 'Florida' 'South']\n",
      "['Tampa' 'Florida' 'South']\n",
      "['Tigard' 'Oregon' 'West']\n",
      "['Tinley Park' 'Illinois' 'Central']\n",
      "['Toledo' 'Ohio' 'East']\n",
      "['Troy' 'Ohio' 'East']\n",
      "['Tucson' 'Arizona' 'West']\n",
      "['Tyler' 'Texas' 'Central']\n",
      "['Waco' 'Texas' 'Central']\n",
      "['Wheeling' 'Illinois' 'Central']\n",
      "['Wilson' 'North Carolina' 'South']\n",
      "['Woodstock' 'Illinois' 'Central']\n",
      "['York' 'Pennsylvania' 'East']\n",
      "['Yuma' 'Arizona' 'West']\n"
     ]
    }
   ],
   "source": [
    "temp=pd.DataFrame(data.groupby('Block_id')['Profit'].apply(np.sum)).reset_index()\n",
    "print('Weak areas:\\n')\n",
    "for i in temp[temp['Profit']< 0]['Block_id'].values:\n",
    "    print(data[data['Block_id']==i][['City','State','Region']].values[0])\n"
   ]
  }
 ],
 "metadata": {
  "kernelspec": {
   "display_name": "Python 3",
   "language": "python",
   "name": "python3"
  },
  "language_info": {
   "codemirror_mode": {
    "name": "ipython",
    "version": 3
   },
   "file_extension": ".py",
   "mimetype": "text/x-python",
   "name": "python",
   "nbconvert_exporter": "python",
   "pygments_lexer": "ipython3",
   "version": "3.6.4"
  }
 },
 "nbformat": 4,
 "nbformat_minor": 2
}
